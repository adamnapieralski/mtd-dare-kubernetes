{
 "metadata": {
  "language_info": {
   "codemirror_mode": {
    "name": "ipython",
    "version": 3
   },
   "file_extension": ".py",
   "mimetype": "text/x-python",
   "name": "python",
   "nbconvert_exporter": "python",
   "pygments_lexer": "ipython3",
   "version": "3.6.10"
  },
  "orig_nbformat": 2,
  "kernelspec": {
   "name": "python3610jvsc74a57bd072ffc0da7ee5caca0f7685bf871f24caac48323a31e64648132288e1e1b99255",
   "display_name": "Python 3.6.10 64-bit ('py36workshop': conda)"
  }
 },
 "nbformat": 4,
 "nbformat_minor": 2,
 "cells": [
  {
   "cell_type": "code",
   "execution_count": 10,
   "metadata": {},
   "outputs": [
    {
     "output_type": "execute_result",
     "data": {
      "text/plain": [
       "<module 'analyse' from '/home/napiad/studia/eiti/mgr/sem3/spzc/projekt/mtd-dare-kubernetes/resources-analysis/analyse.py'>"
      ]
     },
     "metadata": {},
     "execution_count": 10
    }
   ],
   "source": [
    "import pandas as pd\n",
    "import numpy as np\n",
    "import json\n",
    "import re\n",
    "import matplotlib.pyplot as plt\n",
    "import math\n",
    "import importlib\n",
    "import analyse as an\n",
    "importlib.reload(an)"
   ]
  },
  {
   "cell_type": "code",
   "execution_count": 13,
   "metadata": {},
   "outputs": [
    {
     "output_type": "execute_result",
     "data": {
      "text/plain": [
       "{'cpu': [7.417695013097,\n",
       "  7.487421548566001,\n",
       "  7.4112644138697,\n",
       "  7.481117952566501,\n",
       "  7.567318873027501,\n",
       "  7.3050311642153005,\n",
       "  7.4791911191469,\n",
       "  7.396494060366302,\n",
       "  7.4911520899228,\n",
       "  7.494609740982,\n",
       "  7.472227350742,\n",
       "  7.494251145514601,\n",
       "  7.491839766958601,\n",
       "  7.3420331442258,\n",
       "  7.3402125848595,\n",
       "  7.4880457675329,\n",
       "  7.416725250585402,\n",
       "  7.308785607738501,\n",
       "  12.310775598289899,\n",
       "  29.4872637125321,\n",
       "  31.1232725046091,\n",
       "  26.408126947551303,\n",
       "  26.3525595510891,\n",
       "  25.3814375858508,\n",
       "  26.728919899497004,\n",
       "  28.755020486204703,\n",
       "  31.050690874604697,\n",
       "  32.24015893116731,\n",
       "  30.7372994236827,\n",
       "  30.197431258619506,\n",
       "  30.221193757374603,\n",
       "  30.348192753551107,\n",
       "  30.347533400266503,\n",
       "  37.371083807273706,\n",
       "  42.37067284402411,\n",
       "  43.7035341223756,\n",
       "  42.57820485802211,\n",
       "  42.90231314638101,\n",
       "  43.665825871184204,\n",
       "  42.6336782521123,\n",
       "  42.5647459366822,\n",
       "  42.584478196183305,\n",
       "  47.820553237085505,\n",
       "  66.29308585885342,\n",
       "  70.5031216763655,\n",
       "  68.2613492380047,\n",
       "  62.8179329355391,\n",
       "  63.22891578311209,\n",
       "  64.5769733805123,\n",
       "  60.929310080754405,\n",
       "  54.38920501446521,\n",
       "  49.8538413366236,\n",
       "  48.9034562637286,\n",
       "  49.259490402728105,\n",
       "  65.14860074935712,\n",
       "  66.97287508223391,\n",
       "  65.4765988461874,\n",
       "  61.66386777017291,\n",
       "  60.10367078695841,\n",
       "  58.4884436437313],\n",
       " 'memory': [1088.8671875,\n",
       "  1088.8671875,\n",
       "  1080.2421875,\n",
       "  1067.65625,\n",
       "  1063.6953125,\n",
       "  1063.6953125,\n",
       "  1063.6953125,\n",
       "  1063.6953125,\n",
       "  1063.6953125,\n",
       "  1063.6953125,\n",
       "  1063.6953125,\n",
       "  1063.6953125,\n",
       "  1063.6953125,\n",
       "  1063.6953125,\n",
       "  1058.8984375,\n",
       "  1049.3671875,\n",
       "  1036.82421875,\n",
       "  1126.59375,\n",
       "  1109.5,\n",
       "  1205.734375,\n",
       "  1187.3046875,\n",
       "  1355.0234375,\n",
       "  1403.76953125,\n",
       "  1488.08984375,\n",
       "  1850.49609375,\n",
       "  1816.33203125,\n",
       "  1829.82421875,\n",
       "  1543.86328125,\n",
       "  1537.71484375,\n",
       "  1539.45703125,\n",
       "  1544.69921875,\n",
       "  1544.81640625,\n",
       "  1544.81640625,\n",
       "  1695.25,\n",
       "  1915.7578125,\n",
       "  1926.640625,\n",
       "  1926.64453125,\n",
       "  1924.15625,\n",
       "  1923.22265625,\n",
       "  1929.7109375,\n",
       "  1993.48828125,\n",
       "  1993.48828125,\n",
       "  2164.12890625,\n",
       "  2706.0625,\n",
       "  2704.8671875,\n",
       "  2604.18359375,\n",
       "  2489.81640625,\n",
       "  2490.6796875,\n",
       "  2493.96484375,\n",
       "  2493.96484375,\n",
       "  2493.96484375,\n",
       "  2523.48046875,\n",
       "  2577.41796875,\n",
       "  2573.5,\n",
       "  2794.984375,\n",
       "  2887.28125,\n",
       "  2863.265625,\n",
       "  3018.78125,\n",
       "  3029.56640625,\n",
       "  3147.74609375],\n",
       " 'seconds': [0,\n",
       "  5,\n",
       "  10,\n",
       "  15,\n",
       "  20,\n",
       "  25,\n",
       "  30,\n",
       "  35,\n",
       "  40,\n",
       "  45,\n",
       "  50,\n",
       "  55,\n",
       "  60,\n",
       "  65,\n",
       "  70,\n",
       "  75,\n",
       "  80,\n",
       "  85,\n",
       "  90,\n",
       "  95,\n",
       "  100,\n",
       "  105,\n",
       "  110,\n",
       "  115,\n",
       "  120,\n",
       "  125,\n",
       "  130,\n",
       "  135,\n",
       "  140,\n",
       "  145,\n",
       "  150,\n",
       "  155,\n",
       "  160,\n",
       "  165,\n",
       "  170,\n",
       "  175,\n",
       "  180,\n",
       "  185,\n",
       "  190,\n",
       "  195,\n",
       "  200,\n",
       "  205,\n",
       "  210,\n",
       "  215,\n",
       "  220,\n",
       "  225,\n",
       "  230,\n",
       "  235,\n",
       "  240,\n",
       "  245,\n",
       "  250,\n",
       "  255,\n",
       "  260,\n",
       "  265,\n",
       "  270,\n",
       "  275,\n",
       "  280,\n",
       "  285,\n",
       "  290,\n",
       "  295]}"
      ]
     },
     "metadata": {},
     "execution_count": 13
    }
   ],
   "source": [
    "an.get_data_series_new('resource-metrics.mtd-deployment.no-req.2021.05.25.22.14.51.json')"
   ]
  },
  {
   "cell_type": "code",
   "execution_count": 3,
   "metadata": {},
   "outputs": [
    {
     "output_type": "execute_result",
     "data": {
      "text/plain": [
       "                     timestamp                         pod       cpu  \\\n",
       "0   2021-05-25 21:54:16.581543  wordpress-667cf978d7-kwbd6  0.014169   \n",
       "1   2021-05-25 21:54:16.581543  wordpress-7cc56db548-cgr76  0.127535   \n",
       "2   2021-05-25 21:54:16.581543  wordpress-667cf978d7-nph2f  0.023011   \n",
       "3   2021-05-25 21:54:16.581543  wordpress-7cc56db548-wnrqc  0.124110   \n",
       "4   2021-05-25 21:54:16.581543  wordpress-7cc56db548-8dsjh       NaN   \n",
       "..                         ...                         ...       ...   \n",
       "229 2021-05-25 21:56:12.347856  wordpress-7cc56db548-wnrqc  0.024937   \n",
       "230 2021-05-25 21:56:12.347856  wordpress-667cf978d7-hnhrt       NaN   \n",
       "231 2021-05-25 21:56:12.347856  wordpress-7cc56db548-8thls  0.025261   \n",
       "232 2021-05-25 21:56:12.347856  wordpress-7cc56db548-zpwxp       NaN   \n",
       "233 2021-05-25 21:56:12.347856  wordpress-7cc56db548-brpsd       NaN   \n",
       "\n",
       "         memory  \n",
       "0    181.320312  \n",
       "1    434.242188  \n",
       "2    357.375000  \n",
       "3    440.625000  \n",
       "4    208.933594  \n",
       "..          ...  \n",
       "229  438.781250  \n",
       "230  284.507812  \n",
       "231  478.765625  \n",
       "232  221.593750  \n",
       "233  223.765625  \n",
       "\n",
       "[234 rows x 4 columns]"
      ],
      "text/html": "<div>\n<style scoped>\n    .dataframe tbody tr th:only-of-type {\n        vertical-align: middle;\n    }\n\n    .dataframe tbody tr th {\n        vertical-align: top;\n    }\n\n    .dataframe thead th {\n        text-align: right;\n    }\n</style>\n<table border=\"1\" class=\"dataframe\">\n  <thead>\n    <tr style=\"text-align: right;\">\n      <th></th>\n      <th>timestamp</th>\n      <th>pod</th>\n      <th>cpu</th>\n      <th>memory</th>\n    </tr>\n  </thead>\n  <tbody>\n    <tr>\n      <th>0</th>\n      <td>2021-05-25 21:54:16.581543</td>\n      <td>wordpress-667cf978d7-kwbd6</td>\n      <td>0.014169</td>\n      <td>181.320312</td>\n    </tr>\n    <tr>\n      <th>1</th>\n      <td>2021-05-25 21:54:16.581543</td>\n      <td>wordpress-7cc56db548-cgr76</td>\n      <td>0.127535</td>\n      <td>434.242188</td>\n    </tr>\n    <tr>\n      <th>2</th>\n      <td>2021-05-25 21:54:16.581543</td>\n      <td>wordpress-667cf978d7-nph2f</td>\n      <td>0.023011</td>\n      <td>357.375000</td>\n    </tr>\n    <tr>\n      <th>3</th>\n      <td>2021-05-25 21:54:16.581543</td>\n      <td>wordpress-7cc56db548-wnrqc</td>\n      <td>0.124110</td>\n      <td>440.625000</td>\n    </tr>\n    <tr>\n      <th>4</th>\n      <td>2021-05-25 21:54:16.581543</td>\n      <td>wordpress-7cc56db548-8dsjh</td>\n      <td>NaN</td>\n      <td>208.933594</td>\n    </tr>\n    <tr>\n      <th>...</th>\n      <td>...</td>\n      <td>...</td>\n      <td>...</td>\n      <td>...</td>\n    </tr>\n    <tr>\n      <th>229</th>\n      <td>2021-05-25 21:56:12.347856</td>\n      <td>wordpress-7cc56db548-wnrqc</td>\n      <td>0.024937</td>\n      <td>438.781250</td>\n    </tr>\n    <tr>\n      <th>230</th>\n      <td>2021-05-25 21:56:12.347856</td>\n      <td>wordpress-667cf978d7-hnhrt</td>\n      <td>NaN</td>\n      <td>284.507812</td>\n    </tr>\n    <tr>\n      <th>231</th>\n      <td>2021-05-25 21:56:12.347856</td>\n      <td>wordpress-7cc56db548-8thls</td>\n      <td>0.025261</td>\n      <td>478.765625</td>\n    </tr>\n    <tr>\n      <th>232</th>\n      <td>2021-05-25 21:56:12.347856</td>\n      <td>wordpress-7cc56db548-zpwxp</td>\n      <td>NaN</td>\n      <td>221.593750</td>\n    </tr>\n    <tr>\n      <th>233</th>\n      <td>2021-05-25 21:56:12.347856</td>\n      <td>wordpress-7cc56db548-brpsd</td>\n      <td>NaN</td>\n      <td>223.765625</td>\n    </tr>\n  </tbody>\n</table>\n<p>234 rows × 4 columns</p>\n</div>"
     },
     "metadata": {},
     "execution_count": 3
    }
   ],
   "source": [
    "a = pd.read_json('resource-metrics.mtd-deployment.no-req.2021.05.25.21.54.16.json')\n",
    "a"
   ]
  },
  {
   "cell_type": "code",
   "execution_count": 4,
   "metadata": {},
   "outputs": [],
   "source": [
    "# b = a.groupby(['timestamp', 'pod'])['memory'].sum()\n",
    "a['pod'] = a['pod'].apply(lambda x: re.match(r'^(\\w+)-.*', x).groups()[0])"
   ]
  },
  {
   "cell_type": "code",
   "execution_count": 5,
   "metadata": {},
   "outputs": [
    {
     "output_type": "stream",
     "name": "stderr",
     "text": [
      "ipykernel_launcher:1: FutureWarning: Indexing with multiple keys (implicitly converted to a tuple of keys) will be deprecated, use a list instead.\n"
     ]
    },
    {
     "output_type": "execute_result",
     "data": {
      "text/plain": [
       "                                           cpu       memory\n",
       "timestamp                  pod                             \n",
       "2021-05-25 21:54:16.581543 wordpress  0.414324  3039.058594\n",
       "2021-05-25 21:54:21.606472 wordpress  0.407436  3037.253906\n",
       "2021-05-25 21:54:26.630024 wordpress  0.392517  3037.253906\n",
       "2021-05-25 21:54:31.654469 wordpress  0.369443  3039.117188\n",
       "2021-05-25 21:54:36.676691 wordpress  0.359346  3041.605469\n",
       "2021-05-25 21:54:41.695729 wordpress  0.351779  3042.300781\n",
       "2021-05-25 21:54:46.730901 wordpress  0.352862  3042.375000\n",
       "2021-05-25 21:54:51.752179 wordpress  0.354267  3042.375000\n",
       "2021-05-25 21:54:56.792991 wordpress  0.350653  3042.375000\n",
       "2021-05-25 21:55:01.820274 wordpress  0.350243  3042.382812\n",
       "2021-05-25 21:55:06.843409 wordpress  0.349267  3042.382812\n",
       "2021-05-25 21:55:11.923398 wordpress  0.153793  3042.382812\n",
       "2021-05-25 21:55:16.951947 wordpress  0.151186  3042.382812\n",
       "2021-05-25 21:55:21.975581 wordpress  0.142258  3042.382812\n",
       "2021-05-25 21:55:27.002197 wordpress  0.130895  3042.382812\n",
       "2021-05-25 21:55:32.022644 wordpress  0.125239  3042.382812\n",
       "2021-05-25 21:55:37.038514 wordpress  0.123701  2621.199219\n",
       "2021-05-25 21:55:42.126903 wordpress  0.125774  2620.382812\n",
       "2021-05-25 21:55:47.158392 wordpress  0.118590  2620.382812\n",
       "2021-05-25 21:55:52.185605 wordpress  0.120463  2620.460938\n",
       "2021-05-25 21:55:57.217876 wordpress  0.121422  2620.460938\n",
       "2021-05-25 21:56:02.295418 wordpress  0.123142  2620.460938\n",
       "2021-05-25 21:56:07.321023 wordpress  0.119537  2620.406250\n",
       "2021-05-25 21:56:12.347856 wordpress  0.081000  2620.328125"
      ],
      "text/html": "<div>\n<style scoped>\n    .dataframe tbody tr th:only-of-type {\n        vertical-align: middle;\n    }\n\n    .dataframe tbody tr th {\n        vertical-align: top;\n    }\n\n    .dataframe thead th {\n        text-align: right;\n    }\n</style>\n<table border=\"1\" class=\"dataframe\">\n  <thead>\n    <tr style=\"text-align: right;\">\n      <th></th>\n      <th></th>\n      <th>cpu</th>\n      <th>memory</th>\n    </tr>\n    <tr>\n      <th>timestamp</th>\n      <th>pod</th>\n      <th></th>\n      <th></th>\n    </tr>\n  </thead>\n  <tbody>\n    <tr>\n      <th>2021-05-25 21:54:16.581543</th>\n      <th>wordpress</th>\n      <td>0.414324</td>\n      <td>3039.058594</td>\n    </tr>\n    <tr>\n      <th>2021-05-25 21:54:21.606472</th>\n      <th>wordpress</th>\n      <td>0.407436</td>\n      <td>3037.253906</td>\n    </tr>\n    <tr>\n      <th>2021-05-25 21:54:26.630024</th>\n      <th>wordpress</th>\n      <td>0.392517</td>\n      <td>3037.253906</td>\n    </tr>\n    <tr>\n      <th>2021-05-25 21:54:31.654469</th>\n      <th>wordpress</th>\n      <td>0.369443</td>\n      <td>3039.117188</td>\n    </tr>\n    <tr>\n      <th>2021-05-25 21:54:36.676691</th>\n      <th>wordpress</th>\n      <td>0.359346</td>\n      <td>3041.605469</td>\n    </tr>\n    <tr>\n      <th>2021-05-25 21:54:41.695729</th>\n      <th>wordpress</th>\n      <td>0.351779</td>\n      <td>3042.300781</td>\n    </tr>\n    <tr>\n      <th>2021-05-25 21:54:46.730901</th>\n      <th>wordpress</th>\n      <td>0.352862</td>\n      <td>3042.375000</td>\n    </tr>\n    <tr>\n      <th>2021-05-25 21:54:51.752179</th>\n      <th>wordpress</th>\n      <td>0.354267</td>\n      <td>3042.375000</td>\n    </tr>\n    <tr>\n      <th>2021-05-25 21:54:56.792991</th>\n      <th>wordpress</th>\n      <td>0.350653</td>\n      <td>3042.375000</td>\n    </tr>\n    <tr>\n      <th>2021-05-25 21:55:01.820274</th>\n      <th>wordpress</th>\n      <td>0.350243</td>\n      <td>3042.382812</td>\n    </tr>\n    <tr>\n      <th>2021-05-25 21:55:06.843409</th>\n      <th>wordpress</th>\n      <td>0.349267</td>\n      <td>3042.382812</td>\n    </tr>\n    <tr>\n      <th>2021-05-25 21:55:11.923398</th>\n      <th>wordpress</th>\n      <td>0.153793</td>\n      <td>3042.382812</td>\n    </tr>\n    <tr>\n      <th>2021-05-25 21:55:16.951947</th>\n      <th>wordpress</th>\n      <td>0.151186</td>\n      <td>3042.382812</td>\n    </tr>\n    <tr>\n      <th>2021-05-25 21:55:21.975581</th>\n      <th>wordpress</th>\n      <td>0.142258</td>\n      <td>3042.382812</td>\n    </tr>\n    <tr>\n      <th>2021-05-25 21:55:27.002197</th>\n      <th>wordpress</th>\n      <td>0.130895</td>\n      <td>3042.382812</td>\n    </tr>\n    <tr>\n      <th>2021-05-25 21:55:32.022644</th>\n      <th>wordpress</th>\n      <td>0.125239</td>\n      <td>3042.382812</td>\n    </tr>\n    <tr>\n      <th>2021-05-25 21:55:37.038514</th>\n      <th>wordpress</th>\n      <td>0.123701</td>\n      <td>2621.199219</td>\n    </tr>\n    <tr>\n      <th>2021-05-25 21:55:42.126903</th>\n      <th>wordpress</th>\n      <td>0.125774</td>\n      <td>2620.382812</td>\n    </tr>\n    <tr>\n      <th>2021-05-25 21:55:47.158392</th>\n      <th>wordpress</th>\n      <td>0.118590</td>\n      <td>2620.382812</td>\n    </tr>\n    <tr>\n      <th>2021-05-25 21:55:52.185605</th>\n      <th>wordpress</th>\n      <td>0.120463</td>\n      <td>2620.460938</td>\n    </tr>\n    <tr>\n      <th>2021-05-25 21:55:57.217876</th>\n      <th>wordpress</th>\n      <td>0.121422</td>\n      <td>2620.460938</td>\n    </tr>\n    <tr>\n      <th>2021-05-25 21:56:02.295418</th>\n      <th>wordpress</th>\n      <td>0.123142</td>\n      <td>2620.460938</td>\n    </tr>\n    <tr>\n      <th>2021-05-25 21:56:07.321023</th>\n      <th>wordpress</th>\n      <td>0.119537</td>\n      <td>2620.406250</td>\n    </tr>\n    <tr>\n      <th>2021-05-25 21:56:12.347856</th>\n      <th>wordpress</th>\n      <td>0.081000</td>\n      <td>2620.328125</td>\n    </tr>\n  </tbody>\n</table>\n</div>"
     },
     "metadata": {},
     "execution_count": 5
    }
   ],
   "source": [
    "b = a.groupby(['timestamp', 'pod'])['cpu', 'memory'].sum()\n",
    "# b = b.to_frame()\n",
    "# b.loc()\n",
    "b"
   ]
  },
  {
   "cell_type": "code",
   "execution_count": 140,
   "metadata": {},
   "outputs": [
    {
     "output_type": "execute_result",
     "data": {
      "text/plain": [
       "timestamp                   pod      \n",
       "2021-05-25 16:47:34.793194  wp-apache    0.001208\n",
       "2021-05-25 16:47:39.816205  wp-apache    0.001220\n",
       "2021-05-25 16:47:44.838612  wp-apache    0.003219\n",
       "2021-05-25 16:47:49.854001  wp-apache    0.012383\n",
       "2021-05-25 16:47:54.881029  wp-apache    0.012964\n",
       "2021-05-25 16:47:59.909012  wp-apache    0.014786\n",
       "2021-05-25 16:48:04.971864  wp-apache    0.015725\n",
       "2021-05-25 16:48:09.997971  wp-apache    0.017519\n",
       "2021-05-25 16:48:15.020748  wp-apache    0.017500\n",
       "2021-05-25 16:48:20.077341  wp-apache    0.024678\n",
       "2021-05-25 16:48:25.148459  wp-apache    0.027775\n",
       "2021-05-25 16:48:30.175846  wp-apache    0.027905\n",
       "2021-05-25 16:48:35.198544  wp-apache    0.030312\n",
       "2021-05-25 16:48:40.217309  wp-apache    0.032283\n",
       "2021-05-25 16:48:45.240586  wp-apache    0.036962\n",
       "2021-05-25 16:48:50.261532  wp-apache    0.039559\n",
       "2021-05-25 16:48:55.282850  wp-apache    0.043598\n",
       "2021-05-25 16:49:00.305819  wp-apache    0.043023\n",
       "2021-05-25 16:49:05.328230  wp-apache    0.043532\n",
       "2021-05-25 16:49:10.375308  wp-apache    0.044748\n",
       "2021-05-25 16:49:15.406139  wp-apache    0.047866\n",
       "2021-05-25 16:49:20.434371  wp-apache    0.049998\n",
       "2021-05-25 16:49:25.464324  wp-apache    0.054715\n",
       "2021-05-25 16:49:30.485092  wp-apache    0.055655\n",
       "Name: cpu, dtype: float64"
      ]
     },
     "metadata": {},
     "execution_count": 140
    }
   ],
   "source": [
    "l = np.array([x[1] for x in b.index])\n",
    "ids = np.where(l == 'wp-apache')[0]\n",
    "b['cpu'][ids]\n",
    "# b.columns.tolist()\n",
    "# b[ids]\n",
    "# b = b[ids]\n",
    "# tl = [t[0] for t in b.index]\n",
    "# t1, t2 = tl[0], tl[1]\n",
    "# dt = t2 - t1\n",
    "# math.floor(dt.total_seconds())\n"
   ]
  },
  {
   "cell_type": "code",
   "execution_count": 141,
   "metadata": {},
   "outputs": [
    {
     "output_type": "error",
     "ename": "TypeError",
     "evalue": "'list' object is not an iterator",
     "traceback": [
      "\u001b[0;31m---------------------------------------------------------------------------\u001b[0m",
      "\u001b[0;31mTypeError\u001b[0m                                 Traceback (most recent call last)",
      "\u001b[0;32m<ipython-input-141-48b183c92f7c>\u001b[0m in \u001b[0;36m<module>\u001b[0;34m\u001b[0m\n\u001b[1;32m      4\u001b[0m ]\n\u001b[1;32m      5\u001b[0m \u001b[0;34m\u001b[0m\u001b[0m\n\u001b[0;32m----> 6\u001b[0;31m \u001b[0mnext\u001b[0m\u001b[0;34m(\u001b[0m\u001b[0mservers\u001b[0m\u001b[0;34m)\u001b[0m\u001b[0;34m\u001b[0m\u001b[0;34m\u001b[0m\u001b[0m\n\u001b[0m",
      "\u001b[0;31mTypeError\u001b[0m: 'list' object is not an iterator"
     ]
    }
   ],
   "source": [
    "servers = [\n",
    "    { 'name': 'nginx', 'pod': 'wordpress-nginx' },\n",
    "    { 'name': 'apache', 'pod': 'wp-apache' }\n",
    "]\n",
    "\n",
    "next((x for x in servers if x['name'] == )))"
   ]
  }
 ]
}